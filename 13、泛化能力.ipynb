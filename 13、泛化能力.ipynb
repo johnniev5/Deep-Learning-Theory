{
 "cells": [
  {
   "cell_type": "markdown",
   "metadata": {},
   "source": [
    "为了提高模型的泛化能力，我们一般会在训练集上加上正则化，使得模型能够更好地适用于测试集。\n",
    "\n",
    "另一种实现泛化能力，就是添加噪声数据，或者是对原数据进行打乱，混淆，如果模型还是能够学得很好，这就说明了模型的学习能力和泛化能力都很好。\n",
    "\n",
    "有一种情况，我们直观上会认为随着模型的复杂度增加，比如深度网络的层数增加，模型的泛化能力应该是降低的，而大多数情况，也并非如此，而是恰相反，其准确度还是随着参数量的增多，而增加的。为什么会如此，其实还不是很清楚！"
   ]
  }
 ],
 "metadata": {
  "kernelspec": {
   "display_name": "Python 3",
   "language": "python",
   "name": "python3"
  },
  "language_info": {
   "codemirror_mode": {
    "name": "ipython",
    "version": 3
   },
   "file_extension": ".py",
   "mimetype": "text/x-python",
   "name": "python",
   "nbconvert_exporter": "python",
   "pygments_lexer": "ipython3",
   "version": "3.6.6"
  }
 },
 "nbformat": 4,
 "nbformat_minor": 2
}
