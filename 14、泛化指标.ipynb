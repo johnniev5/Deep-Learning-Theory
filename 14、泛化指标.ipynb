{
 "cells": [
  {
   "cell_type": "markdown",
   "metadata": {},
   "source": [
    "如果说全局最优可以得到0损失，那么在函数空间中是哪个可以得到这个广义的结果呢？也就是找到不会过拟合的结果？\n",
    "\n",
    "也就是我们用来衡量模型泛化能力的指标，一个是sharpness，另一个是sensitity。"
   ]
  }
 ],
 "metadata": {
  "kernelspec": {
   "display_name": "Python 3",
   "language": "python",
   "name": "python3"
  },
  "language_info": {
   "codemirror_mode": {
    "name": "ipython",
    "version": 3
   },
   "file_extension": ".py",
   "mimetype": "text/x-python",
   "name": "python",
   "nbconvert_exporter": "python",
   "pygments_lexer": "ipython3",
   "version": "3.6.6"
  }
 },
 "nbformat": 4,
 "nbformat_minor": 2
}
