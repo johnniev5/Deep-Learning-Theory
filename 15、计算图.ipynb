{
 "cells": [
  {
   "cell_type": "markdown",
   "metadata": {},
   "source": [
    "计算图是在神经网络反向传播算法中默认使用的一种加速计算的方法。\n",
    "\n",
    "共享参数的微分，如果使用计算图，仍然可以将其认定为是不同的参数来处理。\n",
    "\n",
    "在前馈神经网络中，前向算法部分是会计算出每个步骤对应的输出值，这个输出值在后向传播算法中会用到，这也就是反向传播算法是包括前向部分的。\n",
    "\n",
    "而在NN中的梯度损失计算微分时，对于类别大部分输出是0，只有非0部分才有实际为微分值，而对于向量对向量的求导，会得到一个jacobian矩阵。\n",
    "\n",
    "而在RNN中依然使用的是梯度下降，但是是基于时间的梯度下降，只不过是多了一个时间维度，本质还是一样。\n",
    "\n",
    "从RNN中梯度推导公式中我们可以得出，当前段的参数在进行信息传递的过程中，因为使用的权重参数都是共享的，这个时候就会出现梯度消失和梯度爆炸的问题。"
   ]
  }
 ],
 "metadata": {
  "kernelspec": {
   "display_name": "Python 3",
   "language": "python",
   "name": "python3"
  },
  "language_info": {
   "codemirror_mode": {
    "name": "ipython",
    "version": 3
   },
   "file_extension": ".py",
   "mimetype": "text/x-python",
   "name": "python",
   "nbconvert_exporter": "python",
   "pygments_lexer": "ipython3",
   "version": "3.6.6"
  }
 },
 "nbformat": 4,
 "nbformat_minor": 2
}
