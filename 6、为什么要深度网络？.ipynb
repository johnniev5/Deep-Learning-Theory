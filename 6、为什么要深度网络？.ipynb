{
 "cells": [
  {
   "cell_type": "markdown",
   "metadata": {},
   "source": [
    "对于浅度网络和深度网络的比较，我们需要设定相同数量的参数，比较才有意义。同样复杂度模型拟合，深度网络所需要的神经元个数更少，从另一方面来说，也就是使用的参数更少。\n",
    "\n",
    "我们知道深度学习都是在将一个复杂的任务，拆分成多个简单的小任务在处理。从这个思路来理解，对于正负样本存在不均衡的情况，我们完全可以使用少量的样本就可以进行训练，也就是说前期在学习混合类，然后在从混合类中进行细化识别。比如识别长短发的男女性类别，对于长头发男性的这类样本是很少的，但也可以使用少量数据进行训练，思路就是先识别男女性类别，再从男女性类别中识别长短头发，这个阶段的识别操作是完全由CNN后期自己完成的，所以就避免了直接学习目标任务带来的样本不均衡的尴尬问题。\n",
    "\n",
    "所以说对于深度学习一定需要很多样本数据才能够train的起来，那是一种误导，少量的数据也是可以训练的。\n",
    "\n",
    "这种模组化的思想，可以被用在语音识别...\n",
    "\n",
    "深度神经网络从某种程度在复制着某种pattern...\n",
    "\n",
    "端到端的学习使得对于语音的处理，直接输入源数据，而不需要再做进一步特征提取。现在无论图像、语音、视频等，都能够通过NN实现端到端学习。"
   ]
  }
 ],
 "metadata": {
  "kernelspec": {
   "display_name": "Python 3",
   "language": "python",
   "name": "python3"
  },
  "language_info": {
   "codemirror_mode": {
    "name": "ipython",
    "version": 3
   },
   "file_extension": ".py",
   "mimetype": "text/x-python",
   "name": "python",
   "nbconvert_exporter": "python",
   "pygments_lexer": "ipython3",
   "version": "3.6.6"
  }
 },
 "nbformat": 4,
 "nbformat_minor": 2
}
